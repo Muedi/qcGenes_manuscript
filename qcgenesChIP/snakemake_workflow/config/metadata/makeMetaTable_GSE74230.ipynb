{
 "cells": [
  {
   "cell_type": "code",
   "execution_count": 2,
   "metadata": {},
   "outputs": [],
   "source": [
    "import pandas as pd\n",
    "import re\n",
    "import os"
   ]
  },
  {
   "cell_type": "code",
   "execution_count": 3,
   "metadata": {},
   "outputs": [],
   "source": [
    "path = \"raw/GSE74230_SraRunTable.txt\"\n",
    "df = pd.read_csv(path)"
   ]
  },
  {
   "cell_type": "code",
   "execution_count": 5,
   "metadata": {},
   "outputs": [],
   "source": [
    "geo_id = os.path.split(path)[-1].split(\"_\")[0]"
   ]
  },
  {
   "cell_type": "code",
   "execution_count": 7,
   "metadata": {},
   "outputs": [],
   "source": [
    "df[\"geo_id\"] = geo_id"
   ]
  },
  {
   "cell_type": "code",
   "execution_count": 14,
   "metadata": {},
   "outputs": [
    {
     "data": {
      "text/plain": [
       "highly metastatic osteosarcoma cell line           15\n",
       "non-metastatic osteosarcoma cell line              10\n",
       "lung metastasis from primary osteosarcoma tumor     4\n",
       "primary osteosarcoma tumor                          4\n",
       "Name: source_name, dtype: int64"
      ]
     },
     "execution_count": 14,
     "metadata": {},
     "output_type": "execute_result"
    }
   ],
   "source": [
    "df[\"source_name\"] "
   ]
  },
  {
   "cell_type": "code",
   "execution_count": 12,
   "metadata": {},
   "outputs": [],
   "source": [
    "df[\"is_sample\"] = df[\"chip_antibody\"].apply(lambda x : 1 if x == \"rabbit anti-H3K27ac (Abcam #4729).\" else 0)"
   ]
  },
  {
   "cell_type": "code",
   "execution_count": 19,
   "metadata": {},
   "outputs": [],
   "source": [
    "df[\"is_healthy\"] = df[\"source_name\"].apply(lambda x : 1 if x in [\"non-metastatic osteosarcoma cell line\",\n",
    "                                                                \"primary osteosarcoma tumor\"] else 0)"
   ]
  },
  {
   "cell_type": "code",
   "execution_count": 21,
   "metadata": {},
   "outputs": [],
   "source": [
    "df[\"condition\"] = df[\"is_healthy\"].apply(lambda x : \"non-metastatic osteosarcoma\" if x == 1 else \"metastatic osteosarcoma\")"
   ]
  },
  {
   "cell_type": "code",
   "execution_count": 9,
   "metadata": {},
   "outputs": [],
   "source": [
    "# Input Information completely omitted in this dataset\n",
    "# df[\"is_sample\"] = df[\"chip_antibody\"].apply(lambda x : 0 if re.search(r\"input\", x) else 1)"
   ]
  },
  {
   "cell_type": "code",
   "execution_count": 22,
   "metadata": {},
   "outputs": [],
   "source": [
    "df.to_csv(\"GSE74230_metaTable.csv\")"
   ]
  }
 ],
 "metadata": {
  "kernelspec": {
   "display_name": "Python 3",
   "language": "python",
   "name": "python3"
  },
  "language_info": {
   "codemirror_mode": {
    "name": "ipython",
    "version": 3
   },
   "file_extension": ".py",
   "mimetype": "text/x-python",
   "name": "python",
   "nbconvert_exporter": "python",
   "pygments_lexer": "ipython3",
   "version": "3.8.2"
  }
 },
 "nbformat": 4,
 "nbformat_minor": 4
}
